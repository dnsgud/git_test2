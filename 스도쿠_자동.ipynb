{
  "nbformat": 4,
  "nbformat_minor": 0,
  "metadata": {
    "colab": {
      "name": "스도쿠 자동",
      "provenance": [],
      "collapsed_sections": [],
      "include_colab_link": true
    },
    "kernelspec": {
      "display_name": "Python 3",
      "name": "python3"
    }
  },
  "cells": [
    {
      "cell_type": "markdown",
      "metadata": {
        "id": "view-in-github",
        "colab_type": "text"
      },
      "source": [
        "<a href=\"https://colab.research.google.com/github/dnsgud/git_test2/blob/master/%EC%8A%A4%EB%8F%84%EC%BF%A0_%EC%9E%90%EB%8F%99.ipynb\" target=\"_parent\"><img src=\"https://colab.research.google.com/assets/colab-badge.svg\" alt=\"Open In Colab\"/></a>"
      ]
    },
    {
      "cell_type": "code",
      "metadata": {
        "id": "MdRzfyQ3pR5i",
        "colab_type": "code",
        "colab": {}
      },
      "source": [
        "board = [\n",
        "         [0,0,0,4,3,0,1,2,0],\n",
        "         [6,0,0,0,7,5,0,0,9],\n",
        "         [0,0,0,6,0,1,0,7,8],\n",
        "         [0,0,7,0,4,0,2,6,0],\n",
        "         [0,0,1,0,5,0,9,3,0],\n",
        "         [9,0,4,0,6,0,0,0,5],\n",
        "         [0,7,0,3,0,0,0,1,2],\n",
        "         [1,2,0,0,0,7,4,0,0],\n",
        "         [0,4,9,0,0,6,0,0,7]\n",
        "]"
      ],
      "execution_count": 9,
      "outputs": []
    },
    {
      "cell_type": "code",
      "metadata": {
        "id": "5yJJuh-LqqG8",
        "colab_type": "code",
        "colab": {}
      },
      "source": [
        "def print_board(target):\n",
        "  for i in range(9):\n",
        "    if i % 3 == 0 and i !=0:\n",
        "      print(\"- - - - - - - - - - - -\")\n",
        "    if i % 3 == 0 "
      ],
      "execution_count": 10,
      "outputs": []
    },
    {
      "cell_type": "code",
      "metadata": {
        "id": "fyZTCDytscu5",
        "colab_type": "code",
        "colab": {}
      },
      "source": [
        "def fine_empty(target):\n",
        "  for i in range(9):\n",
        "    for j in range(9):\n",
        "      if target[i][i] == 0\n"
      ],
      "execution_count": null,
      "outputs": []
    },
    {
      "cell_type": "code",
      "metadata": {
        "id": "hZVpNnExr08G",
        "colab_type": "code",
        "colab": {}
      },
      "source": [
        "def valid(target, y, x, num):\n",
        "  for i in range(0,9):\n",
        "    if  target [y][i] == num:\n",
        "      return False\n",
        "  for i in range(0,9):\n",
        "    if target[i][x] == num:\n",
        "      return False    \n",
        "sub_box_x = (x//3)*3\n",
        "sub_box_y = (y//3)*3\n",
        "\n",
        "for i in range(0,3):\n",
        "  for i in rnage(0,3):\n",
        "    if target[sub_box_y+i][sub_box_x+j] == num:\n",
        "      return False\n",
        "return True      "
      ],
      "execution_count": null,
      "outputs": []
    },
    {
      "cell_type": "code",
      "metadata": {
        "id": "sj_2AJovtdoH",
        "colab_type": "code",
        "colab": {}
      },
      "source": [
        "def solve(target):\n",
        "  find = find_empty(target)\n",
        "  if not find:\n",
        "    return True\n",
        "  else:\n",
        "    row, col = find_empty(target)\n",
        "\n",
        "  for i in range(1,10):\n",
        "    if valid(target,row, col, i):\n",
        "      target[row][col] = i\n",
        "      \n",
        "      if solve(target):\n",
        "        return True\n",
        "      target[row][col] = 0     \n",
        "return False          \n",
        "\n",
        "  "
      ],
      "execution_count": null,
      "outputs": []
    },
    {
      "cell_type": "code",
      "metadata": {
        "id": "456u3xqSuHEo",
        "colab_type": "code",
        "colab": {}
      },
      "source": [
        "print(solve(board))\n",
        "print_board(board)"
      ],
      "execution_count": null,
      "outputs": []
    }
  ]
}